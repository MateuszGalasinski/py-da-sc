{
 "cells": [
  {
   "cell_type": "markdown",
   "metadata": {},
   "source": [
    "<h1><center>Języki Programowania w Analize Danych</center></h1>\n",
    "<h3><center><ul style=\"list-style: none;\">\n",
    "    <li>Mateusz Gałasiński 234054</li>\n",
    "    <li>Jakub Kurek 234078</li>\n",
    "    </ul></center></h3> \n",
    "<h2><center>Zadanie 1 - Analiza statystyczna dla wybranego zbioru danych</center></h2>"
   ]
  },
  {
   "cell_type": "markdown",
   "metadata": {},
   "source": [
    "### Additional setup"
   ]
  },
  {
   "cell_type": "code",
   "execution_count": 1,
   "metadata": {},
   "outputs": [],
   "source": [
    "# install additional packages\n",
    "!pip install k3d > /dev/null\n",
    "%matplotlib inline"
   ]
  },
  {
   "cell_type": "code",
   "execution_count": 2,
   "metadata": {},
   "outputs": [],
   "source": [
    "from pathlib import Path\n",
    "import numpy as np\n",
    "from matplotlib import pyplot as pypl\n",
    "from pandas import read_csv\n",
    "import json"
   ]
  },
  {
   "cell_type": "markdown",
   "metadata": {},
   "source": [
    "## Configuration"
   ]
  },
  {
   "cell_type": "code",
   "execution_count": 3,
   "metadata": {},
   "outputs": [],
   "source": [
    "class Config(object):\n",
    "    def __init__(self, dataSourceUrl, quantitativeColumns, qualitativeColumns):\n",
    "        self.dataSourceUrl = dataSourceUrl\n",
    "        self.quantitativeColumns = quantitativeColumns\n",
    "        self.qualitativeColumns = qualitativeColumns\n",
    "def as_config(dct):\n",
    "    return Config(\n",
    "        dct['dataSourceUrl'],\n",
    "        dct['quantitativeColumns'],\n",
    "        dct['qualitativeColumns'],)\n",
    "json_config =\"\"\"\n",
    "{\n",
    "    \"dataSourceUrl\": \"/home/jovyan/host-note/fertility_Diagnosis.data\",\n",
    "    \"quantitativeColumns\": [\n",
    "        \"season\",\n",
    "        \"childish_disease\", \n",
    "        \"accident_trauma\", \n",
    "        \"surgical_treatmnent\",\n",
    "        \"fevers\", \n",
    "        \"alcohol_consumption\", \n",
    "        \"smoking_habit\", \n",
    "        \"output_diagnosis\"\n",
    "    ],\n",
    "    \"qualitativeColumns\": [\n",
    "        \"age\", \n",
    "        \"hours_sitting\"\n",
    "    ]\n",
    "}\"\"\"\n",
    "config = json.loads(json_config, object_hook = as_config)"
   ]
  },
  {
   "cell_type": "markdown",
   "metadata": {},
   "source": [
    "## Data description"
   ]
  },
  {
   "cell_type": "code",
   "execution_count": 4,
   "metadata": {},
   "outputs": [
    {
     "name": "stdout",
     "output_type": "stream",
     "text": [
      "Attribute Information:\n",
      "Season in which the analysis was performed. 1) winter, 2) spring, 3) Summer, 4) fall. (-1, -0.33, 0.33, 1)\n",
      "Age at the time of analysis. 18-36 (0, 1)\n",
      "Childish diseases (ie , chicken pox, measles, mumps, polio) 1) yes, 2) no. (0, 1)\n",
      "Accident or serious trauma 1) yes, 2) no. (0, 1)\n",
      "Surgical intervention 1) yes, 2) no. (0, 1)\n",
      "High fevers in the last year 1) less than three months ago, 2) more than three months ago, 3) no. (-1, 0, 1)\n",
      "Frequency of alcohol consumption 1) several times a day, 2) every day, 3) several times a week, 4) once a week, 5) hardly ever or never (0, 1)\n",
      "Smoking habit 1) never, 2) occasional 3) daily. (-1, 0, 1)\n",
      "Number of hours spent sitting per day ene-16 (0, 1)\n",
      "Output: Diagnosis normal (N), altered (O) \n"
     ]
    }
   ],
   "source": [
    "for line in [line for line in Path('/home/jovyan/host-note/fertility_Diagnosis.names').read_text().splitlines() if line]:\n",
    "    print(line)"
   ]
  },
  {
   "cell_type": "markdown",
   "metadata": {},
   "source": [
    "## Divide into qualitative and quantitative"
   ]
  },
  {
   "cell_type": "code",
   "execution_count": 5,
   "metadata": {},
   "outputs": [
    {
     "data": {
      "text/plain": [
       "(100, 10)"
      ]
     },
     "execution_count": 5,
     "metadata": {},
     "output_type": "execute_result"
    }
   ],
   "source": [
    "dataset = read_csv(config.dataSourceUrl, header=0)\n",
    "qualitativeDataset = dataset[config.qualitativeColumns]\n",
    "quantitativeDataset = dataset[config.quantitativeColumns]\n",
    "dataset.shape"
   ]
  },
  {
   "cell_type": "markdown",
   "metadata": {},
   "source": [
    "## 1. Describe\n",
    "*Dla poszczególnych atrybutów wyznaczyć medianę, minimum i maximum dla cech ilościowych i dominantę dla cech jakościowych.*"
   ]
  },
  {
   "cell_type": "code",
   "execution_count": 6,
   "metadata": {},
   "outputs": [
    {
     "data": {
      "text/html": [
       "<div>\n",
       "<style scoped>\n",
       "    .dataframe tbody tr th:only-of-type {\n",
       "        vertical-align: middle;\n",
       "    }\n",
       "\n",
       "    .dataframe tbody tr th {\n",
       "        vertical-align: top;\n",
       "    }\n",
       "\n",
       "    .dataframe thead th {\n",
       "        text-align: right;\n",
       "    }\n",
       "</style>\n",
       "<table border=\"1\" class=\"dataframe\">\n",
       "  <thead>\n",
       "    <tr style=\"text-align: right;\">\n",
       "      <th></th>\n",
       "      <th>season</th>\n",
       "      <th>childish_disease</th>\n",
       "      <th>accident_trauma</th>\n",
       "      <th>surgical_treatmnent</th>\n",
       "      <th>fevers</th>\n",
       "      <th>alcohol_consumption</th>\n",
       "      <th>smoking_habit</th>\n",
       "    </tr>\n",
       "  </thead>\n",
       "  <tbody>\n",
       "    <tr>\n",
       "      <th>count</th>\n",
       "      <td>100.000000</td>\n",
       "      <td>100.000000</td>\n",
       "      <td>100.000000</td>\n",
       "      <td>100.000000</td>\n",
       "      <td>100.000000</td>\n",
       "      <td>100.000000</td>\n",
       "      <td>100.000000</td>\n",
       "    </tr>\n",
       "    <tr>\n",
       "      <th>mean</th>\n",
       "      <td>-0.078900</td>\n",
       "      <td>0.870000</td>\n",
       "      <td>0.440000</td>\n",
       "      <td>0.510000</td>\n",
       "      <td>0.190000</td>\n",
       "      <td>0.832000</td>\n",
       "      <td>-0.350000</td>\n",
       "    </tr>\n",
       "    <tr>\n",
       "      <th>std</th>\n",
       "      <td>0.796725</td>\n",
       "      <td>0.337998</td>\n",
       "      <td>0.498888</td>\n",
       "      <td>0.502418</td>\n",
       "      <td>0.580752</td>\n",
       "      <td>0.167501</td>\n",
       "      <td>0.808728</td>\n",
       "    </tr>\n",
       "    <tr>\n",
       "      <th>min</th>\n",
       "      <td>-1.000000</td>\n",
       "      <td>0.000000</td>\n",
       "      <td>0.000000</td>\n",
       "      <td>0.000000</td>\n",
       "      <td>-1.000000</td>\n",
       "      <td>0.200000</td>\n",
       "      <td>-1.000000</td>\n",
       "    </tr>\n",
       "    <tr>\n",
       "      <th>25%</th>\n",
       "      <td>-1.000000</td>\n",
       "      <td>1.000000</td>\n",
       "      <td>0.000000</td>\n",
       "      <td>0.000000</td>\n",
       "      <td>0.000000</td>\n",
       "      <td>0.800000</td>\n",
       "      <td>-1.000000</td>\n",
       "    </tr>\n",
       "    <tr>\n",
       "      <th>50%</th>\n",
       "      <td>-0.330000</td>\n",
       "      <td>1.000000</td>\n",
       "      <td>0.000000</td>\n",
       "      <td>1.000000</td>\n",
       "      <td>0.000000</td>\n",
       "      <td>0.800000</td>\n",
       "      <td>-1.000000</td>\n",
       "    </tr>\n",
       "    <tr>\n",
       "      <th>75%</th>\n",
       "      <td>1.000000</td>\n",
       "      <td>1.000000</td>\n",
       "      <td>1.000000</td>\n",
       "      <td>1.000000</td>\n",
       "      <td>1.000000</td>\n",
       "      <td>1.000000</td>\n",
       "      <td>0.000000</td>\n",
       "    </tr>\n",
       "    <tr>\n",
       "      <th>max</th>\n",
       "      <td>1.000000</td>\n",
       "      <td>1.000000</td>\n",
       "      <td>1.000000</td>\n",
       "      <td>1.000000</td>\n",
       "      <td>1.000000</td>\n",
       "      <td>1.000000</td>\n",
       "      <td>1.000000</td>\n",
       "    </tr>\n",
       "  </tbody>\n",
       "</table>\n",
       "</div>"
      ],
      "text/plain": [
       "           season  childish_disease  accident_trauma  surgical_treatmnent  \\\n",
       "count  100.000000        100.000000       100.000000           100.000000   \n",
       "mean    -0.078900          0.870000         0.440000             0.510000   \n",
       "std      0.796725          0.337998         0.498888             0.502418   \n",
       "min     -1.000000          0.000000         0.000000             0.000000   \n",
       "25%     -1.000000          1.000000         0.000000             0.000000   \n",
       "50%     -0.330000          1.000000         0.000000             1.000000   \n",
       "75%      1.000000          1.000000         1.000000             1.000000   \n",
       "max      1.000000          1.000000         1.000000             1.000000   \n",
       "\n",
       "           fevers  alcohol_consumption  smoking_habit  \n",
       "count  100.000000           100.000000     100.000000  \n",
       "mean     0.190000             0.832000      -0.350000  \n",
       "std      0.580752             0.167501       0.808728  \n",
       "min     -1.000000             0.200000      -1.000000  \n",
       "25%      0.000000             0.800000      -1.000000  \n",
       "50%      0.000000             0.800000      -1.000000  \n",
       "75%      1.000000             1.000000       0.000000  \n",
       "max      1.000000             1.000000       1.000000  "
      ]
     },
     "execution_count": 6,
     "metadata": {},
     "output_type": "execute_result"
    }
   ],
   "source": [
    "quantitativeDataset.describe()"
   ]
  },
  {
   "cell_type": "markdown",
   "metadata": {},
   "source": [
    "### Modes"
   ]
  },
  {
   "cell_type": "code",
   "execution_count": 7,
   "metadata": {},
   "outputs": [
    {
     "data": {
      "text/html": [
       "<div>\n",
       "<style scoped>\n",
       "    .dataframe tbody tr th:only-of-type {\n",
       "        vertical-align: middle;\n",
       "    }\n",
       "\n",
       "    .dataframe tbody tr th {\n",
       "        vertical-align: top;\n",
       "    }\n",
       "\n",
       "    .dataframe thead th {\n",
       "        text-align: right;\n",
       "    }\n",
       "</style>\n",
       "<table border=\"1\" class=\"dataframe\">\n",
       "  <thead>\n",
       "    <tr style=\"text-align: right;\">\n",
       "      <th></th>\n",
       "      <th>age</th>\n",
       "      <th>hours_sitting</th>\n",
       "    </tr>\n",
       "  </thead>\n",
       "  <tbody>\n",
       "    <tr>\n",
       "      <th>0</th>\n",
       "      <td>0.67</td>\n",
       "      <td>0.25</td>\n",
       "    </tr>\n",
       "  </tbody>\n",
       "</table>\n",
       "</div>"
      ],
      "text/plain": [
       "    age  hours_sitting\n",
       "0  0.67           0.25"
      ]
     },
     "execution_count": 7,
     "metadata": {},
     "output_type": "execute_result"
    }
   ],
   "source": [
    "qualitativeDataset.mode()"
   ]
  },
  {
   "cell_type": "markdown",
   "metadata": {},
   "source": [
    "## 2. Correlation matrix\n",
    "*Narysować histogramy dla dwóch cech ilościowych najbardziej ze sobą skorelowanych*"
   ]
  },
  {
   "cell_type": "code",
   "execution_count": 8,
   "metadata": {},
   "outputs": [
    {
     "data": {
      "text/html": [
       "<div>\n",
       "<style scoped>\n",
       "    .dataframe tbody tr th:only-of-type {\n",
       "        vertical-align: middle;\n",
       "    }\n",
       "\n",
       "    .dataframe tbody tr th {\n",
       "        vertical-align: top;\n",
       "    }\n",
       "\n",
       "    .dataframe thead th {\n",
       "        text-align: right;\n",
       "    }\n",
       "</style>\n",
       "<table border=\"1\" class=\"dataframe\">\n",
       "  <thead>\n",
       "    <tr style=\"text-align: right;\">\n",
       "      <th></th>\n",
       "      <th>season</th>\n",
       "      <th>childish_disease</th>\n",
       "      <th>accident_trauma</th>\n",
       "      <th>surgical_treatmnent</th>\n",
       "      <th>fevers</th>\n",
       "      <th>alcohol_consumption</th>\n",
       "      <th>smoking_habit</th>\n",
       "    </tr>\n",
       "  </thead>\n",
       "  <tbody>\n",
       "    <tr>\n",
       "      <th>season</th>\n",
       "      <td>1.000000</td>\n",
       "      <td>-0.176509</td>\n",
       "      <td>-0.096274</td>\n",
       "      <td>-0.006210</td>\n",
       "      <td>-0.221818</td>\n",
       "      <td>-0.041290</td>\n",
       "      <td>-0.028085</td>\n",
       "    </tr>\n",
       "    <tr>\n",
       "      <th>childish_disease</th>\n",
       "      <td>-0.176509</td>\n",
       "      <td>1.000000</td>\n",
       "      <td>0.162936</td>\n",
       "      <td>-0.140972</td>\n",
       "      <td>0.075645</td>\n",
       "      <td>0.038538</td>\n",
       "      <td>0.090535</td>\n",
       "    </tr>\n",
       "    <tr>\n",
       "      <th>accident_trauma</th>\n",
       "      <td>-0.096274</td>\n",
       "      <td>0.162936</td>\n",
       "      <td>1.000000</td>\n",
       "      <td>0.103166</td>\n",
       "      <td>-0.082278</td>\n",
       "      <td>-0.242722</td>\n",
       "      <td>0.110157</td>\n",
       "    </tr>\n",
       "    <tr>\n",
       "      <th>surgical_treatmnent</th>\n",
       "      <td>-0.006210</td>\n",
       "      <td>-0.140972</td>\n",
       "      <td>0.103166</td>\n",
       "      <td>1.000000</td>\n",
       "      <td>-0.231598</td>\n",
       "      <td>-0.075858</td>\n",
       "      <td>-0.053448</td>\n",
       "    </tr>\n",
       "    <tr>\n",
       "      <th>fevers</th>\n",
       "      <td>-0.221818</td>\n",
       "      <td>0.075645</td>\n",
       "      <td>-0.082278</td>\n",
       "      <td>-0.231598</td>\n",
       "      <td>1.000000</td>\n",
       "      <td>-0.000831</td>\n",
       "      <td>-0.007527</td>\n",
       "    </tr>\n",
       "    <tr>\n",
       "      <th>alcohol_consumption</th>\n",
       "      <td>-0.041290</td>\n",
       "      <td>0.038538</td>\n",
       "      <td>-0.242722</td>\n",
       "      <td>-0.075858</td>\n",
       "      <td>-0.000831</td>\n",
       "      <td>1.000000</td>\n",
       "      <td>-0.184926</td>\n",
       "    </tr>\n",
       "    <tr>\n",
       "      <th>smoking_habit</th>\n",
       "      <td>-0.028085</td>\n",
       "      <td>0.090535</td>\n",
       "      <td>0.110157</td>\n",
       "      <td>-0.053448</td>\n",
       "      <td>-0.007527</td>\n",
       "      <td>-0.184926</td>\n",
       "      <td>1.000000</td>\n",
       "    </tr>\n",
       "  </tbody>\n",
       "</table>\n",
       "</div>"
      ],
      "text/plain": [
       "                       season  childish_disease  accident_trauma  \\\n",
       "season               1.000000         -0.176509        -0.096274   \n",
       "childish_disease    -0.176509          1.000000         0.162936   \n",
       "accident_trauma     -0.096274          0.162936         1.000000   \n",
       "surgical_treatmnent -0.006210         -0.140972         0.103166   \n",
       "fevers              -0.221818          0.075645        -0.082278   \n",
       "alcohol_consumption -0.041290          0.038538        -0.242722   \n",
       "smoking_habit       -0.028085          0.090535         0.110157   \n",
       "\n",
       "                     surgical_treatmnent    fevers  alcohol_consumption  \\\n",
       "season                         -0.006210 -0.221818            -0.041290   \n",
       "childish_disease               -0.140972  0.075645             0.038538   \n",
       "accident_trauma                 0.103166 -0.082278            -0.242722   \n",
       "surgical_treatmnent             1.000000 -0.231598            -0.075858   \n",
       "fevers                         -0.231598  1.000000            -0.000831   \n",
       "alcohol_consumption            -0.075858 -0.000831             1.000000   \n",
       "smoking_habit                  -0.053448 -0.007527            -0.184926   \n",
       "\n",
       "                     smoking_habit  \n",
       "season                   -0.028085  \n",
       "childish_disease          0.090535  \n",
       "accident_trauma           0.110157  \n",
       "surgical_treatmnent      -0.053448  \n",
       "fevers                   -0.007527  \n",
       "alcohol_consumption      -0.184926  \n",
       "smoking_habit             1.000000  "
      ]
     },
     "execution_count": 8,
     "metadata": {},
     "output_type": "execute_result"
    }
   ],
   "source": [
    "quantitativeDataset.corr()"
   ]
  },
  {
   "cell_type": "markdown",
   "metadata": {},
   "source": [
    "### Histogram for attributes with highest correlation\n"
   ]
  },
  {
   "cell_type": "code",
   "execution_count": 9,
   "metadata": {},
   "outputs": [
    {
     "data": {
      "image/png": "[encoded data removed]",
      "text/plain": [
       "<Figure size 432x288 with 2 Axes>"
      ]
     },
     "metadata": {
      "needs_background": "light"
     },
     "output_type": "display_data"
    }
   ],
   "source": [
    "corr = quantitativeDataset.corr()\n",
    "max = -2\n",
    "c, r = \"\", \"\"\n",
    "for column in corr:\n",
    "    for row in corr:\n",
    "        if row != column and np.absolute(corr[column][row]) > max:\n",
    "            max = np.absolute(corr[column][row])\n",
    "            c = column\n",
    "            r = row\n",
    "hist = quantitativeDataset.hist(column=[c, r])"
   ]
  },
  {
   "cell_type": "markdown",
   "metadata": {},
   "source": [
    "# Births"
   ]
  },
  {
   "cell_type": "markdown",
   "metadata": {},
   "source": [
    "*Dla danych Births zbadać hipotezę, że dzienna średnia liczba urodzeń dzieci wynosi: 10000  \n",
    "(poziom istotności statystycznej 5%)*"
   ]
  },
  {
   "cell_type": "code",
   "execution_count": 10,
   "metadata": {
    "scrolled": true
   },
   "outputs": [
    {
     "name": "stdout",
     "output_type": "stream",
     "text": [
      "Średnia ilość urodzeń w ciagu dnia to: 9648.940177960301\n",
      "Odchylenie standardowe ilości urodzeń w ciagu dnia to: 1127.3152293611754\n",
      "Wartość krytyczna: 1.9602888281476816\n",
      "9623.084535784074 – 9674.795820136529\n",
      "Hipoteza, głosząca, że średnia wartość 'births' jest 10000 z poziomem ufności: 95.0% została obalona!\n"
     ]
    },
    {
     "data": {
      "image/png": "[encoded data removed]",
      "text/plain": [
       "<Figure size 432x288 with 1 Axes>"
      ]
     },
     "metadata": {
      "needs_background": "light"
     },
     "output_type": "display_data"
    }
   ],
   "source": [
    "from calendar import isleap\n",
    "from scipy.stats import t\n",
    "hypothesis_z = 1000_0\n",
    "alpha = 0.05\n",
    "column_name = \"births\"\n",
    "data = read_csv(\"/home/jovyan/host-note/births.csv\", header=0)\n",
    "num_of_days = data['year'].unique().size * 365 + np.sum(np.array(list(map(lambda y: isleap(y), data['year'].unique()))))\n",
    "mean_b = data[column_name].sum() / num_of_days\n",
    "print(f\"Średnia ilość urodzeń w ciagu dnia to: {mean_b}\")\n",
    "std_b = data[column_name].std()\n",
    "print(f\"Odchylenie standardowe ilości urodzeń w ciagu dnia to: {std_b}\")\n",
    "tperc_b = t.ppf(1 - alpha/2, data['births'].count()-1)\n",
    "print(f\"Wartość krytyczna: {tperc_b}\")\n",
    "b_max = mean_b + tperc_b*std_b/(np.sqrt(data[column_name].count()))\n",
    "b_min = mean_b - tperc_b*std_b/(np.sqrt(data[column_name].count()))\n",
    "print(f\"{b_min} – {b_max}\")\n",
    "\n",
    "if not (hypothesis_z > b_min and hypothesis_z < b_max):\n",
    "    print(f\"Hipoteza, głosząca, że średnia wartość '{column_name}' jest {hypothesis_z} z poziomem ufności: {(1 - alpha)*100}% została obalona!\")\n",
    "else:\n",
    "    print(\"Hipoteza jest OK!\")\n",
    "\n",
    "fig = pypl.figure()\n",
    "ax = fig.add_subplot(1,1,1)\n",
    "ax.set_title(\"Births h\")\n",
    "data.hist(column=[column_name], ax=ax)\n",
    "pypl.axvline(x=b_min, linestyle='--', color='red')\n",
    "pypl.axvline(x=b_max, linestyle='--', color='red')\n",
    "lin = pypl.axvline(x=hypothesis_z, linestyle='--', color='purple')"
   ]
  },
  {
   "cell_type": "code",
   "execution_count": null,
   "metadata": {},
   "outputs": [],
   "source": []
  }
 ],
 "metadata": {
  "kernelspec": {
   "display_name": "Python 3",
   "language": "python",
   "name": "python3"
  },
  "language_info": {
   "codemirror_mode": {
    "name": "ipython",
    "version": 3
   },
   "file_extension": ".py",
   "mimetype": "text/x-python",
   "name": "python",
   "nbconvert_exporter": "python",
   "pygments_lexer": "ipython3",
   "version": "3.7.6"
  }
 },
 "nbformat": 4,
 "nbformat_minor": 4
}
