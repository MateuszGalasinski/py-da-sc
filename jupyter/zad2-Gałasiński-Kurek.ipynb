{
 "cells": [
  {
   "cell_type": "markdown",
   "metadata": {},
   "source": [
    "## Import section"
   ]
  },
  {
   "cell_type": "code",
   "execution_count": null,
   "metadata": {},
   "outputs": [],
   "source": [
    "!pip install missingno > /dev/null\n",
    "!pip install tabulate > /dev/null"
   ]
  },
  {
   "cell_type": "code",
   "execution_count": null,
   "metadata": {},
   "outputs": [],
   "source": [
    "import pandas as pd\n",
    "import numpy as np\n",
    "import missingno as msno\n",
    "from matplotlib import pyplot as plt\n",
    "from sklearn.experimental import enable_iterative_imputer\n",
    "from sklearn.linear_model import LinearRegression, BayesianRidge\n",
    "from sklearn.model_selection import train_test_split\n",
    "from sklearn.impute import SimpleImputer, IterativeImputer\n",
    "from sklearn.experimental import enable_iterative_imputer\n",
    "from tabulate import tabulate\n",
    "from IPython.display import display\n",
    "%matplotlib inline"
   ]
  },
  {
   "cell_type": "markdown",
   "metadata": {},
   "source": [
    "### Read data, treat 0 as NaN"
   ]
  },
  {
   "cell_type": "code",
   "execution_count": null,
   "metadata": {
    "scrolled": true
   },
   "outputs": [],
   "source": [
    "def nan_data(df, percent):\n",
    "    return df.mask(np.random.random(df.shape) < percent)\n",
    "\n",
    "missing_values = [0]\n",
    "data = pd.read_csv(\"./data/Fish.csv\", na_values=missing_values)\n",
    "# data = data[data.Weight < 1200]\n",
    "# data = data[data.Weight > 100]\n",
    "original_data = data.copy()\n",
    "data[data.drop(columns='Species').columns] = nan_data(data.drop(columns='Species'), 0.08)"
   ]
  },
  {
   "cell_type": "markdown",
   "metadata": {},
   "source": [
    "####  Describe data"
   ]
  },
  {
   "cell_type": "code",
   "execution_count": null,
   "metadata": {},
   "outputs": [],
   "source": [
    "print(data.describe())\n",
    "print(\"-----------------------------------\")\n",
    "print(data.head(10))"
   ]
  },
  {
   "cell_type": "markdown",
   "metadata": {},
   "source": [
    "## Visualize missing data"
   ]
  },
  {
   "cell_type": "markdown",
   "metadata": {},
   "source": [
    "#### Percentage of missing data + non-missing data as bars"
   ]
  },
  {
   "cell_type": "code",
   "execution_count": null,
   "metadata": {},
   "outputs": [],
   "source": [
    "print(data.isnull().sum() * 100 / len(data))\n",
    "print(msno.bar(data))"
   ]
  },
  {
   "cell_type": "markdown",
   "metadata": {},
   "source": [
    "#### Missing data matrix and \"heatmap\""
   ]
  },
  {
   "cell_type": "code",
   "execution_count": null,
   "metadata": {},
   "outputs": [],
   "source": [
    "print(msno.matrix(data))\n",
    "# heatmap show correlation nullity correlation:\n",
    "# how strongly the presence or absence of one variable affects the presence of another\n",
    "print(msno.heatmap(data)) "
   ]
  },
  {
   "cell_type": "markdown",
   "metadata": {},
   "source": [
    "# Regression"
   ]
  },
  {
   "cell_type": "code",
   "execution_count": null,
   "metadata": {},
   "outputs": [],
   "source": [
    "def plot_data(axes, title, x_train, y_train, x_test, y_test):\n",
    "    axes.set_title(title)\n",
    "    axes.scatter(x_train, y_train, color=\"green\"),\n",
    "    axes.plot(x_test, y_test, color=\"red\", linewidth=1)\n",
    "\n",
    "models = [LinearRegression(),\n",
    "          BayesianRidge()]\n",
    "\n",
    "res, stats_x, stats_y = [], [], []\n",
    "colx, coly = 'Weight', 'Length2'\n",
    "to_df = lambda a: pd.DataFrame(data=a, index=range(len(a)), columns=[colx, coly])\n",
    "iter_imputer = lambda m: (lambda a: IterativeImputer(estimator=m, max_iter=20, random_state=0).fit_transform(a), f\"{m.__class__.__name__} imputation\", data)\n",
    "cases = [\n",
    "    (None, \"Full, original data\", original_data),\n",
    "    (None, \"deleted NaN rows\", data),\n",
    "    (lambda a: SimpleImputer().fit_transform(a), \"Mean imputation\", data),\n",
    "    (lambda a: to_df(a).interpolate().to_numpy(), \"Interpolation imputation\", data),\n",
    "    (lambda a: to_df(a).fillna(method='ffill').to_numpy(), \"Hot Deck LOCF imputation\", data),\n",
    "    iter_imputer(models[0]),\n",
    "    iter_imputer(models[1])\n",
    "]\n",
    "f, axarr = plt.subplots(len(cases), len(models), sharex=True, sharey=True,figsize=(12,12))\n",
    "f.suptitle(f\"{coly} vs {colx}\")\n",
    "for i, (imputer, title, datasource) in enumerate(cases):\n",
    "    data_slice = datasource[[colx, coly]]\n",
    "    if imputer == None:\n",
    "        data_slice = data_slice.dropna()\n",
    "    data_slice = data_slice.to_numpy()\n",
    "    if imputer != None:\n",
    "        data_slice=imputer(data_slice)\n",
    "    xs = data_slice[:,0].reshape((-1,1))\n",
    "    ys = data_slice[:,1].reshape((-1,1))\n",
    "    x_train,x_test,y_train,y_test=train_test_split(xs,ys,test_size=0.4)\n",
    "    coeffs = []\n",
    "    for y, model in enumerate(models):\n",
    "        y_test = model.fit(x_train,y_train.ravel()).predict(x_test)\n",
    "        plot_data(axarr[i,y], title, x_train, y_train, x_test, y_test)\n",
    "        coeffs.append(model.coef_.ravel()[0])\n",
    "    res.append((title, len(xs), f\"{coeffs[0]:.4f}\", f\"{coeffs[1]:.4f}\"))\n",
    "    descr = pd.DataFrame(data=data_slice, columns=[colx, coly]).describe()\n",
    "    for c, stats in [(colx, stats_x), (coly, stats_y)]:\n",
    "        stats.append((title, descr[c][\"mean\"], descr[c][\"std\"],\n",
    "                      descr[c][\"min\"], descr[c][\"25%\"], descr[c][\"50%\"],\n",
    "                      descr[c][\"75%\"], descr[c][\"max\"]))\n",
    "\n",
    "display(tabulate(res, headers=['Type', 'Number of samples', 'linear regression', 'bayesian ridge'], tablefmt=\"html\"))\n",
    "print(\"Weight\")\n",
    "display(tabulate(stats_x, headers=['mean', 'std', 'min', '25%', '50%', '75%', 'max'], tablefmt=\"html\"))\n",
    "print(\"Length2\")\n",
    "display(tabulate(stats_y, headers=['mean', 'std', 'min', '25%', '50%', '75%', 'max'], tablefmt=\"html\"))"
   ]
  }
 ],
 "metadata": {
  "kernelspec": {
   "display_name": "Python 3",
   "language": "python",
   "name": "python3"
  },
  "language_info": {
   "codemirror_mode": {
    "name": "ipython",
    "version": 3
   },
   "file_extension": ".py",
   "mimetype": "text/x-python",
   "name": "python",
   "nbconvert_exporter": "python",
   "pygments_lexer": "ipython3",
   "version": "3.7.6"
  }
 },
 "nbformat": 4,
 "nbformat_minor": 4
}
